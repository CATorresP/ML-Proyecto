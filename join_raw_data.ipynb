{
 "cells": [
  {
   "cell_type": "code",
   "execution_count": 32,
   "metadata": {},
   "outputs": [],
   "source": [
    "import pandas as pd"
   ]
  },
  {
   "cell_type": "code",
   "execution_count": 33,
   "metadata": {},
   "outputs": [],
   "source": [
    "columns_names = ['open_time', 'open', 'high', 'low', 'close', 'volume', 'close_time', 'quote_volume', 'count', 'taker_buy_volume', 'taker_buy_quote_volume', 'ignore']"
   ]
  },
  {
   "cell_type": "code",
   "execution_count": 34,
   "metadata": {},
   "outputs": [
    {
     "data": {
      "text/plain": [
       "(8759, 12)"
      ]
     },
     "execution_count": 34,
     "metadata": {},
     "output_type": "execute_result"
    }
   ],
   "source": [
    "csv_files = [\n",
    "    'dataset/raw/ADAUSDT-1h-2023-01.csv', \n",
    "    'dataset/raw/ADAUSDT-1h-2023-02.csv', \n",
    "    'dataset/raw/ADAUSDT-1h-2023-03.csv', \n",
    "    'dataset/raw/ADAUSDT-1h-2023-04.csv', \n",
    "    'dataset/raw/ADAUSDT-1h-2023-05.csv', \n",
    "    'dataset/raw/ADAUSDT-1h-2023-06.csv', \n",
    "    'dataset/raw/ADAUSDT-1h-2023-07.csv', \n",
    "    'dataset/raw/ADAUSDT-1h-2023-08.csv', \n",
    "    'dataset/raw/ADAUSDT-1h-2023-09.csv', \n",
    "    'dataset/raw/ADAUSDT-1h-2023-10.csv', \n",
    "    'dataset/raw/ADAUSDT-1h-2023-11.csv', \n",
    "    'dataset/raw/ADAUSDT-1h-2023-12.csv', \n",
    "]\n",
    "dataframes = [pd.read_csv(file, names=columns_names) for file in csv_files]\n",
    "df_ada = pd.concat(dataframes, ignore_index=True)\n",
    "df_ada.to_csv('dataset/kline/ADA.csv', sep=';', index=False)\n",
    "df_ada.shape"
   ]
  },
  {
   "cell_type": "code",
   "execution_count": 35,
   "metadata": {},
   "outputs": [
    {
     "data": {
      "text/plain": [
       "(8759, 12)"
      ]
     },
     "execution_count": 35,
     "metadata": {},
     "output_type": "execute_result"
    }
   ],
   "source": [
    "csv_files = [\n",
    "    'dataset/raw/APEUSDT-1h-2023-01.csv', \n",
    "    'dataset/raw/APEUSDT-1h-2023-02.csv', \n",
    "    'dataset/raw/APEUSDT-1h-2023-03.csv', \n",
    "    'dataset/raw/APEUSDT-1h-2023-04.csv', \n",
    "    'dataset/raw/APEUSDT-1h-2023-05.csv', \n",
    "    'dataset/raw/APEUSDT-1h-2023-06.csv', \n",
    "    'dataset/raw/APEUSDT-1h-2023-07.csv', \n",
    "    'dataset/raw/APEUSDT-1h-2023-08.csv', \n",
    "    'dataset/raw/APEUSDT-1h-2023-09.csv', \n",
    "    'dataset/raw/APEUSDT-1h-2023-10.csv', \n",
    "    'dataset/raw/APEUSDT-1h-2023-11.csv', \n",
    "    'dataset/raw/APEUSDT-1h-2023-12.csv', \n",
    "]\n",
    "dataframes = [pd.read_csv(file, names=columns_names) for file in csv_files]\n",
    "df_ape = pd.concat(dataframes, ignore_index=True)\n",
    "df_ada.to_csv('dataset/kline/APE.csv', sep=';', index=False)\n",
    "df_ape.shape"
   ]
  },
  {
   "cell_type": "code",
   "execution_count": 36,
   "metadata": {},
   "outputs": [
    {
     "data": {
      "text/plain": [
       "(8759, 12)"
      ]
     },
     "execution_count": 36,
     "metadata": {},
     "output_type": "execute_result"
    }
   ],
   "source": [
    "csv_files = [\n",
    "    'dataset/raw/AVAXUSDT-1h-2023-01.csv', \n",
    "    'dataset/raw/AVAXUSDT-1h-2023-02.csv', \n",
    "    'dataset/raw/AVAXUSDT-1h-2023-03.csv', \n",
    "    'dataset/raw/AVAXUSDT-1h-2023-04.csv', \n",
    "    'dataset/raw/AVAXUSDT-1h-2023-05.csv', \n",
    "    'dataset/raw/AVAXUSDT-1h-2023-06.csv', \n",
    "    'dataset/raw/AVAXUSDT-1h-2023-07.csv', \n",
    "    'dataset/raw/AVAXUSDT-1h-2023-08.csv', \n",
    "    'dataset/raw/AVAXUSDT-1h-2023-09.csv', \n",
    "    'dataset/raw/AVAXUSDT-1h-2023-10.csv', \n",
    "    'dataset/raw/AVAXUSDT-1h-2023-11.csv', \n",
    "    'dataset/raw/AVAXUSDT-1h-2023-12.csv', \n",
    "]\n",
    "dataframes = [pd.read_csv(file, names=columns_names) for file in csv_files]\n",
    "df_ape = pd.concat(dataframes, ignore_index=True)\n",
    "df_ada.to_csv('dataset/kline/AVAX.csv', sep=';', index=False)\n",
    "df_ape.shape"
   ]
  },
  {
   "cell_type": "code",
   "execution_count": 37,
   "metadata": {},
   "outputs": [
    {
     "data": {
      "text/plain": [
       "(8759, 12)"
      ]
     },
     "execution_count": 37,
     "metadata": {},
     "output_type": "execute_result"
    }
   ],
   "source": [
    "csv_files = [\n",
    "    'dataset/raw/BCHUSDT-1h-2023-01.csv', \n",
    "    'dataset/raw/BCHUSDT-1h-2023-02.csv', \n",
    "    'dataset/raw/BCHUSDT-1h-2023-03.csv', \n",
    "    'dataset/raw/BCHUSDT-1h-2023-04.csv', \n",
    "    'dataset/raw/BCHUSDT-1h-2023-05.csv', \n",
    "    'dataset/raw/BCHUSDT-1h-2023-06.csv', \n",
    "    'dataset/raw/BCHUSDT-1h-2023-07.csv', \n",
    "    'dataset/raw/BCHUSDT-1h-2023-08.csv', \n",
    "    'dataset/raw/BCHUSDT-1h-2023-09.csv', \n",
    "    'dataset/raw/BCHUSDT-1h-2023-10.csv', \n",
    "    'dataset/raw/BCHUSDT-1h-2023-11.csv', \n",
    "    'dataset/raw/BCHUSDT-1h-2023-12.csv', \n",
    "]\n",
    "dataframes = [pd.read_csv(file, names=columns_names) for file in csv_files]\n",
    "df_ape = pd.concat(dataframes, ignore_index=True)\n",
    "df_ada.to_csv('dataset/kline/BCH.csv', sep=';', index=False)\n",
    "df_ape.shape"
   ]
  },
  {
   "cell_type": "code",
   "execution_count": 38,
   "metadata": {},
   "outputs": [
    {
     "data": {
      "text/plain": [
       "(8759, 12)"
      ]
     },
     "execution_count": 38,
     "metadata": {},
     "output_type": "execute_result"
    }
   ],
   "source": [
    "csv_files = [\n",
    "    'dataset/raw/BTCUSDT-1h-2023-01.csv', \n",
    "    'dataset/raw/BTCUSDT-1h-2023-02.csv', \n",
    "    'dataset/raw/BTCUSDT-1h-2023-03.csv', \n",
    "    'dataset/raw/BTCUSDT-1h-2023-04.csv', \n",
    "    'dataset/raw/BTCUSDT-1h-2023-05.csv', \n",
    "    'dataset/raw/BTCUSDT-1h-2023-06.csv', \n",
    "    'dataset/raw/BTCUSDT-1h-2023-07.csv', \n",
    "    'dataset/raw/BTCUSDT-1h-2023-08.csv', \n",
    "    'dataset/raw/BTCUSDT-1h-2023-09.csv', \n",
    "    'dataset/raw/BTCUSDT-1h-2023-10.csv', \n",
    "    'dataset/raw/BTCUSDT-1h-2023-11.csv', \n",
    "    'dataset/raw/BTCUSDT-1h-2023-12.csv', \n",
    "]\n",
    "dataframes = [pd.read_csv(file, names=columns_names) for file in csv_files]\n",
    "df_ape = pd.concat(dataframes, ignore_index=True)\n",
    "df_ada.to_csv('dataset/kline/BTC.csv', sep=';', index=False)\n",
    "df_ape.shape"
   ]
  },
  {
   "cell_type": "code",
   "execution_count": 39,
   "metadata": {},
   "outputs": [
    {
     "data": {
      "text/plain": [
       "(8759, 12)"
      ]
     },
     "execution_count": 39,
     "metadata": {},
     "output_type": "execute_result"
    }
   ],
   "source": [
    "csv_files = [\n",
    "    'dataset/raw/CHZUSDT-1h-2023-01.csv', \n",
    "    'dataset/raw/CHZUSDT-1h-2023-02.csv', \n",
    "    'dataset/raw/CHZUSDT-1h-2023-03.csv', \n",
    "    'dataset/raw/CHZUSDT-1h-2023-04.csv', \n",
    "    'dataset/raw/CHZUSDT-1h-2023-05.csv', \n",
    "    'dataset/raw/CHZUSDT-1h-2023-06.csv', \n",
    "    'dataset/raw/CHZUSDT-1h-2023-07.csv', \n",
    "    'dataset/raw/CHZUSDT-1h-2023-08.csv', \n",
    "    'dataset/raw/CHZUSDT-1h-2023-09.csv', \n",
    "    'dataset/raw/CHZUSDT-1h-2023-10.csv', \n",
    "    'dataset/raw/CHZUSDT-1h-2023-11.csv', \n",
    "    'dataset/raw/CHZUSDT-1h-2023-12.csv', \n",
    "]\n",
    "dataframes = [pd.read_csv(file, names=columns_names) for file in csv_files]\n",
    "df_ape = pd.concat(dataframes, ignore_index=True)\n",
    "df_ada.to_csv('dataset/kline/CHZ.csv', sep=';', index=False)\n",
    "df_ape.shape"
   ]
  },
  {
   "cell_type": "code",
   "execution_count": 40,
   "metadata": {},
   "outputs": [
    {
     "data": {
      "text/plain": [
       "(8759, 12)"
      ]
     },
     "execution_count": 40,
     "metadata": {},
     "output_type": "execute_result"
    }
   ],
   "source": [
    "csv_files = [\n",
    "    'dataset/raw/DOGEUSDT-1h-2023-01.csv', \n",
    "    'dataset/raw/DOGEUSDT-1h-2023-02.csv', \n",
    "    'dataset/raw/DOGEUSDT-1h-2023-03.csv', \n",
    "    'dataset/raw/DOGEUSDT-1h-2023-04.csv', \n",
    "    'dataset/raw/DOGEUSDT-1h-2023-05.csv', \n",
    "    'dataset/raw/DOGEUSDT-1h-2023-06.csv', \n",
    "    'dataset/raw/DOGEUSDT-1h-2023-07.csv', \n",
    "    'dataset/raw/DOGEUSDT-1h-2023-08.csv', \n",
    "    'dataset/raw/DOGEUSDT-1h-2023-09.csv', \n",
    "    'dataset/raw/DOGEUSDT-1h-2023-10.csv', \n",
    "    'dataset/raw/DOGEUSDT-1h-2023-11.csv', \n",
    "    'dataset/raw/DOGEUSDT-1h-2023-12.csv', \n",
    "]\n",
    "dataframes = [pd.read_csv(file, names=columns_names) for file in csv_files]\n",
    "df_ape = pd.concat(dataframes, ignore_index=True)\n",
    "df_ada.to_csv('dataset/kline/DOGE.csv', sep=';', index=False)\n",
    "df_ape.shape"
   ]
  },
  {
   "cell_type": "code",
   "execution_count": 41,
   "metadata": {},
   "outputs": [
    {
     "data": {
      "text/plain": [
       "(8759, 12)"
      ]
     },
     "execution_count": 41,
     "metadata": {},
     "output_type": "execute_result"
    }
   ],
   "source": [
    "csv_files = [\n",
    "    'dataset/raw/DOTUSDT-1h-2023-01.csv', \n",
    "    'dataset/raw/DOTUSDT-1h-2023-02.csv', \n",
    "    'dataset/raw/DOTUSDT-1h-2023-03.csv', \n",
    "    'dataset/raw/DOTUSDT-1h-2023-04.csv', \n",
    "    'dataset/raw/DOTUSDT-1h-2023-05.csv', \n",
    "    'dataset/raw/DOTUSDT-1h-2023-06.csv', \n",
    "    'dataset/raw/DOTUSDT-1h-2023-07.csv', \n",
    "    'dataset/raw/DOTUSDT-1h-2023-08.csv', \n",
    "    'dataset/raw/DOTUSDT-1h-2023-09.csv', \n",
    "    'dataset/raw/DOTUSDT-1h-2023-10.csv', \n",
    "    'dataset/raw/DOTUSDT-1h-2023-11.csv', \n",
    "    'dataset/raw/DOTUSDT-1h-2023-12.csv', \n",
    "]\n",
    "dataframes = [pd.read_csv(file, names=columns_names) for file in csv_files]\n",
    "df_ape = pd.concat(dataframes, ignore_index=True)\n",
    "df_ada.to_csv('dataset/kline/DOT.csv', sep=';', index=False)\n",
    "df_ape.shape"
   ]
  },
  {
   "cell_type": "code",
   "execution_count": 42,
   "metadata": {},
   "outputs": [
    {
     "data": {
      "text/plain": [
       "(8759, 12)"
      ]
     },
     "execution_count": 42,
     "metadata": {},
     "output_type": "execute_result"
    }
   ],
   "source": [
    "csv_files = [\n",
    "    'dataset/raw/ETHUSDT-1h-2023-01.csv', \n",
    "    'dataset/raw/ETHUSDT-1h-2023-02.csv', \n",
    "    'dataset/raw/ETHUSDT-1h-2023-03.csv', \n",
    "    'dataset/raw/ETHUSDT-1h-2023-04.csv', \n",
    "    'dataset/raw/ETHUSDT-1h-2023-05.csv', \n",
    "    'dataset/raw/ETHUSDT-1h-2023-06.csv', \n",
    "    'dataset/raw/ETHUSDT-1h-2023-07.csv', \n",
    "    'dataset/raw/ETHUSDT-1h-2023-08.csv', \n",
    "    'dataset/raw/ETHUSDT-1h-2023-09.csv', \n",
    "    'dataset/raw/ETHUSDT-1h-2023-10.csv', \n",
    "    'dataset/raw/ETHUSDT-1h-2023-11.csv', \n",
    "    'dataset/raw/ETHUSDT-1h-2023-12.csv', \n",
    "]\n",
    "dataframes = [pd.read_csv(file, names=columns_names) for file in csv_files]\n",
    "df_ape = pd.concat(dataframes, ignore_index=True)\n",
    "df_ada.to_csv('dataset/kline/ETH.csv', sep=';', index=False)\n",
    "df_ape.shape"
   ]
  },
  {
   "cell_type": "code",
   "execution_count": 43,
   "metadata": {},
   "outputs": [
    {
     "data": {
      "text/plain": [
       "(8759, 12)"
      ]
     },
     "execution_count": 43,
     "metadata": {},
     "output_type": "execute_result"
    }
   ],
   "source": [
    "csv_files = [\n",
    "    'dataset/raw/FETUSDT-1h-2023-01.csv', \n",
    "    'dataset/raw/FETUSDT-1h-2023-02.csv', \n",
    "    'dataset/raw/FETUSDT-1h-2023-03.csv', \n",
    "    'dataset/raw/FETUSDT-1h-2023-04.csv', \n",
    "    'dataset/raw/FETUSDT-1h-2023-05.csv', \n",
    "    'dataset/raw/FETUSDT-1h-2023-06.csv', \n",
    "    'dataset/raw/FETUSDT-1h-2023-07.csv', \n",
    "    'dataset/raw/FETUSDT-1h-2023-08.csv', \n",
    "    'dataset/raw/FETUSDT-1h-2023-09.csv', \n",
    "    'dataset/raw/FETUSDT-1h-2023-10.csv', \n",
    "    'dataset/raw/FETUSDT-1h-2023-11.csv', \n",
    "    'dataset/raw/FETUSDT-1h-2023-12.csv', \n",
    "]\n",
    "dataframes = [pd.read_csv(file, names=columns_names) for file in csv_files]\n",
    "df_ape = pd.concat(dataframes, ignore_index=True)\n",
    "df_ada.to_csv('dataset/kline/FET.csv', sep=';', index=False)\n",
    "df_ape.shape"
   ]
  },
  {
   "cell_type": "code",
   "execution_count": 44,
   "metadata": {},
   "outputs": [
    {
     "data": {
      "text/plain": [
       "(8759, 12)"
      ]
     },
     "execution_count": 44,
     "metadata": {},
     "output_type": "execute_result"
    }
   ],
   "source": [
    "csv_files = [\n",
    "    'dataset/raw/GRTUSDT-1h-2023-01.csv', \n",
    "    'dataset/raw/GRTUSDT-1h-2023-02.csv', \n",
    "    'dataset/raw/GRTUSDT-1h-2023-03.csv', \n",
    "    'dataset/raw/GRTUSDT-1h-2023-04.csv', \n",
    "    'dataset/raw/GRTUSDT-1h-2023-05.csv', \n",
    "    'dataset/raw/GRTUSDT-1h-2023-06.csv', \n",
    "    'dataset/raw/GRTUSDT-1h-2023-07.csv', \n",
    "    'dataset/raw/GRTUSDT-1h-2023-08.csv', \n",
    "    'dataset/raw/GRTUSDT-1h-2023-09.csv', \n",
    "    'dataset/raw/GRTUSDT-1h-2023-10.csv', \n",
    "    'dataset/raw/GRTUSDT-1h-2023-11.csv', \n",
    "    'dataset/raw/GRTUSDT-1h-2023-12.csv', \n",
    "]\n",
    "dataframes = [pd.read_csv(file, names=columns_names) for file in csv_files]\n",
    "df_ape = pd.concat(dataframes, ignore_index=True)\n",
    "df_ada.to_csv('dataset/kline/GRT.csv', sep=';', index=False)\n",
    "df_ape.shape"
   ]
  },
  {
   "cell_type": "code",
   "execution_count": 45,
   "metadata": {},
   "outputs": [
    {
     "data": {
      "text/plain": [
       "(8759, 12)"
      ]
     },
     "execution_count": 45,
     "metadata": {},
     "output_type": "execute_result"
    }
   ],
   "source": [
    "csv_files = [\n",
    "    'dataset/raw/LINKUSDT-1h-2023-01.csv', \n",
    "    'dataset/raw/LINKUSDT-1h-2023-02.csv', \n",
    "    'dataset/raw/LINKUSDT-1h-2023-03.csv', \n",
    "    'dataset/raw/LINKUSDT-1h-2023-04.csv', \n",
    "    'dataset/raw/LINKUSDT-1h-2023-05.csv', \n",
    "    'dataset/raw/LINKUSDT-1h-2023-06.csv', \n",
    "    'dataset/raw/LINKUSDT-1h-2023-07.csv', \n",
    "    'dataset/raw/LINKUSDT-1h-2023-08.csv', \n",
    "    'dataset/raw/LINKUSDT-1h-2023-09.csv', \n",
    "    'dataset/raw/LINKUSDT-1h-2023-10.csv', \n",
    "    'dataset/raw/LINKUSDT-1h-2023-11.csv', \n",
    "    'dataset/raw/LINKUSDT-1h-2023-12.csv', \n",
    "]\n",
    "dataframes = [pd.read_csv(file, names=columns_names) for file in csv_files]\n",
    "df_ape = pd.concat(dataframes, ignore_index=True)\n",
    "df_ada.to_csv('dataset/kline/LINK.csv', sep=';', index=False)\n",
    "df_ape.shape"
   ]
  },
  {
   "cell_type": "code",
   "execution_count": 46,
   "metadata": {},
   "outputs": [
    {
     "data": {
      "text/plain": [
       "(8759, 12)"
      ]
     },
     "execution_count": 46,
     "metadata": {},
     "output_type": "execute_result"
    }
   ],
   "source": [
    "csv_files = [\n",
    "    'dataset/raw/LTCUSDT-1h-2023-01.csv', \n",
    "    'dataset/raw/LTCUSDT-1h-2023-02.csv', \n",
    "    'dataset/raw/LTCUSDT-1h-2023-03.csv', \n",
    "    'dataset/raw/LTCUSDT-1h-2023-04.csv', \n",
    "    'dataset/raw/LTCUSDT-1h-2023-05.csv', \n",
    "    'dataset/raw/LTCUSDT-1h-2023-06.csv', \n",
    "    'dataset/raw/LTCUSDT-1h-2023-07.csv', \n",
    "    'dataset/raw/LTCUSDT-1h-2023-08.csv', \n",
    "    'dataset/raw/LTCUSDT-1h-2023-09.csv', \n",
    "    'dataset/raw/LTCUSDT-1h-2023-10.csv', \n",
    "    'dataset/raw/LTCUSDT-1h-2023-11.csv', \n",
    "    'dataset/raw/LTCUSDT-1h-2023-12.csv', \n",
    "]\n",
    "dataframes = [pd.read_csv(file, names=columns_names) for file in csv_files]\n",
    "df_ape = pd.concat(dataframes, ignore_index=True)\n",
    "df_ada.to_csv('dataset/kline/LTC.csv', sep=';', index=False)\n",
    "df_ape.shape"
   ]
  },
  {
   "cell_type": "code",
   "execution_count": 47,
   "metadata": {},
   "outputs": [
    {
     "data": {
      "text/plain": [
       "(8759, 12)"
      ]
     },
     "execution_count": 47,
     "metadata": {},
     "output_type": "execute_result"
    }
   ],
   "source": [
    "csv_files = [\n",
    "    'dataset/raw/MATICUSDT-1h-2023-01.csv', \n",
    "    'dataset/raw/MATICUSDT-1h-2023-02.csv', \n",
    "    'dataset/raw/MATICUSDT-1h-2023-03.csv', \n",
    "    'dataset/raw/MATICUSDT-1h-2023-04.csv', \n",
    "    'dataset/raw/MATICUSDT-1h-2023-05.csv', \n",
    "    'dataset/raw/MATICUSDT-1h-2023-06.csv', \n",
    "    'dataset/raw/MATICUSDT-1h-2023-07.csv', \n",
    "    'dataset/raw/MATICUSDT-1h-2023-08.csv', \n",
    "    'dataset/raw/MATICUSDT-1h-2023-09.csv', \n",
    "    'dataset/raw/MATICUSDT-1h-2023-10.csv', \n",
    "    'dataset/raw/MATICUSDT-1h-2023-11.csv', \n",
    "    'dataset/raw/MATICUSDT-1h-2023-12.csv', \n",
    "]\n",
    "dataframes = [pd.read_csv(file, names=columns_names) for file in csv_files]\n",
    "df_ape = pd.concat(dataframes, ignore_index=True)\n",
    "df_ada.to_csv('dataset/kline/MATIC.csv', sep=';', index=False)\n",
    "df_ape.shape"
   ]
  },
  {
   "cell_type": "code",
   "execution_count": 48,
   "metadata": {},
   "outputs": [
    {
     "data": {
      "text/plain": [
       "(8759, 12)"
      ]
     },
     "execution_count": 48,
     "metadata": {},
     "output_type": "execute_result"
    }
   ],
   "source": [
    "csv_files = [\n",
    "    'dataset/raw/NEARUSDT-1h-2023-01.csv', \n",
    "    'dataset/raw/NEARUSDT-1h-2023-02.csv', \n",
    "    'dataset/raw/NEARUSDT-1h-2023-03.csv', \n",
    "    'dataset/raw/NEARUSDT-1h-2023-04.csv', \n",
    "    'dataset/raw/NEARUSDT-1h-2023-05.csv', \n",
    "    'dataset/raw/NEARUSDT-1h-2023-06.csv', \n",
    "    'dataset/raw/NEARUSDT-1h-2023-07.csv', \n",
    "    'dataset/raw/NEARUSDT-1h-2023-08.csv', \n",
    "    'dataset/raw/NEARUSDT-1h-2023-09.csv', \n",
    "    'dataset/raw/NEARUSDT-1h-2023-10.csv', \n",
    "    'dataset/raw/NEARUSDT-1h-2023-11.csv', \n",
    "    'dataset/raw/NEARUSDT-1h-2023-12.csv', \n",
    "]\n",
    "dataframes = [pd.read_csv(file, names=columns_names) for file in csv_files]\n",
    "df_ape = pd.concat(dataframes, ignore_index=True)\n",
    "df_ada.to_csv('dataset/kline/NEAR.csv', sep=';', index=False)\n",
    "df_ape.shape"
   ]
  },
  {
   "cell_type": "code",
   "execution_count": 49,
   "metadata": {},
   "outputs": [
    {
     "data": {
      "text/plain": [
       "(8759, 12)"
      ]
     },
     "execution_count": 49,
     "metadata": {},
     "output_type": "execute_result"
    }
   ],
   "source": [
    "csv_files = [\n",
    "    'dataset/raw/SHIBUSDT-1h-2023-01.csv', \n",
    "    'dataset/raw/SHIBUSDT-1h-2023-02.csv', \n",
    "    'dataset/raw/SHIBUSDT-1h-2023-03.csv', \n",
    "    'dataset/raw/SHIBUSDT-1h-2023-04.csv', \n",
    "    'dataset/raw/SHIBUSDT-1h-2023-05.csv', \n",
    "    'dataset/raw/SHIBUSDT-1h-2023-06.csv', \n",
    "    'dataset/raw/SHIBUSDT-1h-2023-07.csv', \n",
    "    'dataset/raw/SHIBUSDT-1h-2023-08.csv', \n",
    "    'dataset/raw/SHIBUSDT-1h-2023-09.csv', \n",
    "    'dataset/raw/SHIBUSDT-1h-2023-10.csv', \n",
    "    'dataset/raw/SHIBUSDT-1h-2023-11.csv', \n",
    "    'dataset/raw/SHIBUSDT-1h-2023-12.csv', \n",
    "]\n",
    "dataframes = [pd.read_csv(file, names=columns_names) for file in csv_files]\n",
    "df_ape = pd.concat(dataframes, ignore_index=True)\n",
    "df_ada.to_csv('dataset/kline/SHIB.csv', sep=';', index=False)\n",
    "df_ape.shape"
   ]
  },
  {
   "cell_type": "code",
   "execution_count": 50,
   "metadata": {},
   "outputs": [
    {
     "data": {
      "text/plain": [
       "(8759, 12)"
      ]
     },
     "execution_count": 50,
     "metadata": {},
     "output_type": "execute_result"
    }
   ],
   "source": [
    "csv_files = [\n",
    "    'dataset/raw/SOLUSDT-1h-2023-01.csv', \n",
    "    'dataset/raw/SOLUSDT-1h-2023-02.csv', \n",
    "    'dataset/raw/SOLUSDT-1h-2023-03.csv', \n",
    "    'dataset/raw/SOLUSDT-1h-2023-04.csv', \n",
    "    'dataset/raw/SOLUSDT-1h-2023-05.csv', \n",
    "    'dataset/raw/SOLUSDT-1h-2023-06.csv', \n",
    "    'dataset/raw/SOLUSDT-1h-2023-07.csv', \n",
    "    'dataset/raw/SOLUSDT-1h-2023-08.csv', \n",
    "    'dataset/raw/SOLUSDT-1h-2023-09.csv', \n",
    "    'dataset/raw/SOLUSDT-1h-2023-10.csv', \n",
    "    'dataset/raw/SOLUSDT-1h-2023-11.csv', \n",
    "    'dataset/raw/SOLUSDT-1h-2023-12.csv', \n",
    "]\n",
    "dataframes = [pd.read_csv(file, names=columns_names) for file in csv_files]\n",
    "df_ape = pd.concat(dataframes, ignore_index=True)\n",
    "df_ada.to_csv('dataset/kline/SOL.csv', sep=';', index=False)\n",
    "df_ape.shape"
   ]
  },
  {
   "cell_type": "code",
   "execution_count": 51,
   "metadata": {},
   "outputs": [
    {
     "data": {
      "text/plain": [
       "(8759, 12)"
      ]
     },
     "execution_count": 51,
     "metadata": {},
     "output_type": "execute_result"
    }
   ],
   "source": [
    "csv_files = [\n",
    "    'dataset/raw/UNIUSDT-1h-2023-01.csv', \n",
    "    'dataset/raw/UNIUSDT-1h-2023-02.csv', \n",
    "    'dataset/raw/UNIUSDT-1h-2023-03.csv', \n",
    "    'dataset/raw/UNIUSDT-1h-2023-04.csv', \n",
    "    'dataset/raw/UNIUSDT-1h-2023-05.csv', \n",
    "    'dataset/raw/UNIUSDT-1h-2023-06.csv', \n",
    "    'dataset/raw/UNIUSDT-1h-2023-07.csv', \n",
    "    'dataset/raw/UNIUSDT-1h-2023-08.csv', \n",
    "    'dataset/raw/UNIUSDT-1h-2023-09.csv', \n",
    "    'dataset/raw/UNIUSDT-1h-2023-10.csv', \n",
    "    'dataset/raw/UNIUSDT-1h-2023-11.csv', \n",
    "    'dataset/raw/UNIUSDT-1h-2023-12.csv', \n",
    "]\n",
    "dataframes = [pd.read_csv(file, names=columns_names) for file in csv_files]\n",
    "df_ape = pd.concat(dataframes, ignore_index=True)\n",
    "df_ada.to_csv('dataset/kline/UNI.csv', sep=';', index=False)\n",
    "df_ape.shape"
   ]
  },
  {
   "cell_type": "code",
   "execution_count": 52,
   "metadata": {},
   "outputs": [
    {
     "data": {
      "text/plain": [
       "(8759, 12)"
      ]
     },
     "execution_count": 52,
     "metadata": {},
     "output_type": "execute_result"
    }
   ],
   "source": [
    "csv_files = [\n",
    "    'dataset/raw/XLMUSDT-1h-2023-01.csv', \n",
    "    'dataset/raw/XLMUSDT-1h-2023-02.csv', \n",
    "    'dataset/raw/XLMUSDT-1h-2023-03.csv', \n",
    "    'dataset/raw/XLMUSDT-1h-2023-04.csv', \n",
    "    'dataset/raw/XLMUSDT-1h-2023-05.csv', \n",
    "    'dataset/raw/XLMUSDT-1h-2023-06.csv', \n",
    "    'dataset/raw/XLMUSDT-1h-2023-07.csv', \n",
    "    'dataset/raw/XLMUSDT-1h-2023-08.csv', \n",
    "    'dataset/raw/XLMUSDT-1h-2023-09.csv', \n",
    "    'dataset/raw/XLMUSDT-1h-2023-10.csv', \n",
    "    'dataset/raw/XLMUSDT-1h-2023-11.csv', \n",
    "    'dataset/raw/XLMUSDT-1h-2023-12.csv', \n",
    "]\n",
    "dataframes = [pd.read_csv(file, names=columns_names) for file in csv_files]\n",
    "df_ape = pd.concat(dataframes, ignore_index=True)\n",
    "df_ada.to_csv('dataset/kline/XLM.csv', sep=';', index=False)\n",
    "df_ape.shape"
   ]
  },
  {
   "cell_type": "code",
   "execution_count": 53,
   "metadata": {},
   "outputs": [
    {
     "data": {
      "text/plain": [
       "(8759, 12)"
      ]
     },
     "execution_count": 53,
     "metadata": {},
     "output_type": "execute_result"
    }
   ],
   "source": [
    "csv_files = [\n",
    "    'dataset/raw/XRPUSDT-1h-2023-01.csv', \n",
    "    'dataset/raw/XRPUSDT-1h-2023-02.csv', \n",
    "    'dataset/raw/XRPUSDT-1h-2023-03.csv', \n",
    "    'dataset/raw/XRPUSDT-1h-2023-04.csv', \n",
    "    'dataset/raw/XRPUSDT-1h-2023-05.csv', \n",
    "    'dataset/raw/XRPUSDT-1h-2023-06.csv', \n",
    "    'dataset/raw/XRPUSDT-1h-2023-07.csv', \n",
    "    'dataset/raw/XRPUSDT-1h-2023-08.csv', \n",
    "    'dataset/raw/XRPUSDT-1h-2023-09.csv', \n",
    "    'dataset/raw/XRPUSDT-1h-2023-10.csv', \n",
    "    'dataset/raw/XRPUSDT-1h-2023-11.csv', \n",
    "    'dataset/raw/XRPUSDT-1h-2023-12.csv', \n",
    "]\n",
    "dataframes = [pd.read_csv(file, names=columns_names) for file in csv_files]\n",
    "df_ape = pd.concat(dataframes, ignore_index=True)\n",
    "df_ada.to_csv('dataset/kline/XRP.csv', sep=';', index=False)\n",
    "df_ape.shape"
   ]
  }
 ],
 "metadata": {
  "kernelspec": {
   "display_name": ".venv",
   "language": "python",
   "name": "python3"
  },
  "language_info": {
   "codemirror_mode": {
    "name": "ipython",
    "version": 3
   },
   "file_extension": ".py",
   "mimetype": "text/x-python",
   "name": "python",
   "nbconvert_exporter": "python",
   "pygments_lexer": "ipython3",
   "version": "3.11.4"
  }
 },
 "nbformat": 4,
 "nbformat_minor": 2
}
